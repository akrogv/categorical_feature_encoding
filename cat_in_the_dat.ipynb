{
 "cells": [
  {
   "cell_type": "markdown",
   "source": [
    "One-hot-ecoding & regression"
   ],
   "metadata": {
    "collapsed": false,
    "pycharm": {
     "name": "#%% md\n"
    }
   }
  },
  {
   "cell_type": "code",
   "execution_count": 46,
   "outputs": [
    {
     "data": {
      "text/plain": "            id  bin_0  bin_1  bin_2 bin_3 bin_4  nom_0      nom_1    nom_2  \\\n0        93971      0      0      0     T     N  Green  Trapezoid     Lion   \n1       295047      1      1      0     F     Y    Red  Trapezoid  Hamster   \n2       236301      1      0      1     T     N   Blue     Square  Axolotl   \n3        83616      0      0      0     F     Y   Blue    Polygon      Cat   \n4       161439      0      1      0     T     Y   Blue  Trapezoid      Dog   \n...        ...    ...    ...    ...   ...   ...    ...        ...      ...   \n299995  204036      0      0      1     F     Y   Blue     Circle    Snake   \n299996  132053      0      0      0     F     N    Red  Trapezoid  Hamster   \n299997   93803      0      0      0     T     N    Red   Triangle      Cat   \n299998    9009      0      0      0     F     N    Red  Trapezoid     Lion   \n299999  139030      0      0      1     T     Y  Green       Star    Snake   \n\n             nom_3  ... ord_0        ord_1        ord_2 ord_3 ord_4 ord_5  \\\n0          Finland  ...     1       Novice     Freezing     i     L    Zq   \n1           Canada  ...     1       Expert     Freezing     f     S    mc   \n2           Canada  ...     1       Novice     Freezing     k     J    dh   \n3           Canada  ...     1  Contributor     Lava Hot     h     C    Nk   \n4           Russia  ...     3       Novice  Boiling Hot     g     U    ek   \n...            ...  ...   ...          ...          ...   ...   ...   ...   \n299995      Russia  ...     3       Novice     Lava Hot     g     J    AP   \n299996       China  ...     1  Grandmaster     Freezing     g     R    XI   \n299997      Russia  ...     1       Master     Freezing     l     R    NV   \n299998     Finland  ...     3       Novice         Cold     i     R    MC   \n299999  Costa Rica  ...     1       Master     Lava Hot     g     B    Gx   \n\n        day month target kfold  \n0         4     9      0     0  \n1         3     1      0     0  \n2         1     3      1     0  \n3         4     1      0     0  \n4         3    12      0     0  \n...     ...   ...    ...   ...  \n299995    4     2      0     5  \n299996    2     4      1     5  \n299997    1     7      1     5  \n299998    2     3      0     5  \n299999    2     1      0     5  \n\n[300000 rows x 26 columns]",
      "text/html": "<div>\n<style scoped>\n    .dataframe tbody tr th:only-of-type {\n        vertical-align: middle;\n    }\n\n    .dataframe tbody tr th {\n        vertical-align: top;\n    }\n\n    .dataframe thead th {\n        text-align: right;\n    }\n</style>\n<table border=\"1\" class=\"dataframe\">\n  <thead>\n    <tr style=\"text-align: right;\">\n      <th></th>\n      <th>id</th>\n      <th>bin_0</th>\n      <th>bin_1</th>\n      <th>bin_2</th>\n      <th>bin_3</th>\n      <th>bin_4</th>\n      <th>nom_0</th>\n      <th>nom_1</th>\n      <th>nom_2</th>\n      <th>nom_3</th>\n      <th>...</th>\n      <th>ord_0</th>\n      <th>ord_1</th>\n      <th>ord_2</th>\n      <th>ord_3</th>\n      <th>ord_4</th>\n      <th>ord_5</th>\n      <th>day</th>\n      <th>month</th>\n      <th>target</th>\n      <th>kfold</th>\n    </tr>\n  </thead>\n  <tbody>\n    <tr>\n      <th>0</th>\n      <td>93971</td>\n      <td>0</td>\n      <td>0</td>\n      <td>0</td>\n      <td>T</td>\n      <td>N</td>\n      <td>Green</td>\n      <td>Trapezoid</td>\n      <td>Lion</td>\n      <td>Finland</td>\n      <td>...</td>\n      <td>1</td>\n      <td>Novice</td>\n      <td>Freezing</td>\n      <td>i</td>\n      <td>L</td>\n      <td>Zq</td>\n      <td>4</td>\n      <td>9</td>\n      <td>0</td>\n      <td>0</td>\n    </tr>\n    <tr>\n      <th>1</th>\n      <td>295047</td>\n      <td>1</td>\n      <td>1</td>\n      <td>0</td>\n      <td>F</td>\n      <td>Y</td>\n      <td>Red</td>\n      <td>Trapezoid</td>\n      <td>Hamster</td>\n      <td>Canada</td>\n      <td>...</td>\n      <td>1</td>\n      <td>Expert</td>\n      <td>Freezing</td>\n      <td>f</td>\n      <td>S</td>\n      <td>mc</td>\n      <td>3</td>\n      <td>1</td>\n      <td>0</td>\n      <td>0</td>\n    </tr>\n    <tr>\n      <th>2</th>\n      <td>236301</td>\n      <td>1</td>\n      <td>0</td>\n      <td>1</td>\n      <td>T</td>\n      <td>N</td>\n      <td>Blue</td>\n      <td>Square</td>\n      <td>Axolotl</td>\n      <td>Canada</td>\n      <td>...</td>\n      <td>1</td>\n      <td>Novice</td>\n      <td>Freezing</td>\n      <td>k</td>\n      <td>J</td>\n      <td>dh</td>\n      <td>1</td>\n      <td>3</td>\n      <td>1</td>\n      <td>0</td>\n    </tr>\n    <tr>\n      <th>3</th>\n      <td>83616</td>\n      <td>0</td>\n      <td>0</td>\n      <td>0</td>\n      <td>F</td>\n      <td>Y</td>\n      <td>Blue</td>\n      <td>Polygon</td>\n      <td>Cat</td>\n      <td>Canada</td>\n      <td>...</td>\n      <td>1</td>\n      <td>Contributor</td>\n      <td>Lava Hot</td>\n      <td>h</td>\n      <td>C</td>\n      <td>Nk</td>\n      <td>4</td>\n      <td>1</td>\n      <td>0</td>\n      <td>0</td>\n    </tr>\n    <tr>\n      <th>4</th>\n      <td>161439</td>\n      <td>0</td>\n      <td>1</td>\n      <td>0</td>\n      <td>T</td>\n      <td>Y</td>\n      <td>Blue</td>\n      <td>Trapezoid</td>\n      <td>Dog</td>\n      <td>Russia</td>\n      <td>...</td>\n      <td>3</td>\n      <td>Novice</td>\n      <td>Boiling Hot</td>\n      <td>g</td>\n      <td>U</td>\n      <td>ek</td>\n      <td>3</td>\n      <td>12</td>\n      <td>0</td>\n      <td>0</td>\n    </tr>\n    <tr>\n      <th>...</th>\n      <td>...</td>\n      <td>...</td>\n      <td>...</td>\n      <td>...</td>\n      <td>...</td>\n      <td>...</td>\n      <td>...</td>\n      <td>...</td>\n      <td>...</td>\n      <td>...</td>\n      <td>...</td>\n      <td>...</td>\n      <td>...</td>\n      <td>...</td>\n      <td>...</td>\n      <td>...</td>\n      <td>...</td>\n      <td>...</td>\n      <td>...</td>\n      <td>...</td>\n      <td>...</td>\n    </tr>\n    <tr>\n      <th>299995</th>\n      <td>204036</td>\n      <td>0</td>\n      <td>0</td>\n      <td>1</td>\n      <td>F</td>\n      <td>Y</td>\n      <td>Blue</td>\n      <td>Circle</td>\n      <td>Snake</td>\n      <td>Russia</td>\n      <td>...</td>\n      <td>3</td>\n      <td>Novice</td>\n      <td>Lava Hot</td>\n      <td>g</td>\n      <td>J</td>\n      <td>AP</td>\n      <td>4</td>\n      <td>2</td>\n      <td>0</td>\n      <td>5</td>\n    </tr>\n    <tr>\n      <th>299996</th>\n      <td>132053</td>\n      <td>0</td>\n      <td>0</td>\n      <td>0</td>\n      <td>F</td>\n      <td>N</td>\n      <td>Red</td>\n      <td>Trapezoid</td>\n      <td>Hamster</td>\n      <td>China</td>\n      <td>...</td>\n      <td>1</td>\n      <td>Grandmaster</td>\n      <td>Freezing</td>\n      <td>g</td>\n      <td>R</td>\n      <td>XI</td>\n      <td>2</td>\n      <td>4</td>\n      <td>1</td>\n      <td>5</td>\n    </tr>\n    <tr>\n      <th>299997</th>\n      <td>93803</td>\n      <td>0</td>\n      <td>0</td>\n      <td>0</td>\n      <td>T</td>\n      <td>N</td>\n      <td>Red</td>\n      <td>Triangle</td>\n      <td>Cat</td>\n      <td>Russia</td>\n      <td>...</td>\n      <td>1</td>\n      <td>Master</td>\n      <td>Freezing</td>\n      <td>l</td>\n      <td>R</td>\n      <td>NV</td>\n      <td>1</td>\n      <td>7</td>\n      <td>1</td>\n      <td>5</td>\n    </tr>\n    <tr>\n      <th>299998</th>\n      <td>9009</td>\n      <td>0</td>\n      <td>0</td>\n      <td>0</td>\n      <td>F</td>\n      <td>N</td>\n      <td>Red</td>\n      <td>Trapezoid</td>\n      <td>Lion</td>\n      <td>Finland</td>\n      <td>...</td>\n      <td>3</td>\n      <td>Novice</td>\n      <td>Cold</td>\n      <td>i</td>\n      <td>R</td>\n      <td>MC</td>\n      <td>2</td>\n      <td>3</td>\n      <td>0</td>\n      <td>5</td>\n    </tr>\n    <tr>\n      <th>299999</th>\n      <td>139030</td>\n      <td>0</td>\n      <td>0</td>\n      <td>1</td>\n      <td>T</td>\n      <td>Y</td>\n      <td>Green</td>\n      <td>Star</td>\n      <td>Snake</td>\n      <td>Costa Rica</td>\n      <td>...</td>\n      <td>1</td>\n      <td>Master</td>\n      <td>Lava Hot</td>\n      <td>g</td>\n      <td>B</td>\n      <td>Gx</td>\n      <td>2</td>\n      <td>1</td>\n      <td>0</td>\n      <td>5</td>\n    </tr>\n  </tbody>\n</table>\n<p>300000 rows × 26 columns</p>\n</div>"
     },
     "execution_count": 46,
     "metadata": {},
     "output_type": "execute_result"
    }
   ],
   "source": [
    "import pandas as pd\n",
    "import seaborn as sns\n",
    "from sklearn import model_selection\n",
    "\n",
    "# Import train & test data\n",
    "df = pd.read_csv(\"/Users//PycharmProjects/cat_in_the_dat/train.csv\")\n",
    "test = pd.read_csv(\"/Users//PycharmProjects/cat_in_the_dat/test.csv\")\n",
    "\n",
    "# Stratified K-fold because Skewed data, as we will see below. Also, we have validation data already.\n",
    "df[\"kfold\"]=-1\n",
    "df=df.sample(frac=1).reset_index(drop=True)\n",
    "y=df.target.values\n",
    "kf=model_selection.StratifiedKFold(n_splits=6)\n",
    "\n",
    "for f, (t_,v_) in enumerate (kf.split(X=df,y=y)):\n",
    "    df.loc[v_,'kfold'] = f\n",
    "\n",
    "df.to_csv(\"/Users//PycharmProjects/cat_in_the_dat/train_folds.csv\",index=False)\n",
    "df"
   ],
   "metadata": {
    "collapsed": false,
    "pycharm": {
     "name": "#%%\n"
    }
   }
  },
  {
   "cell_type": "markdown",
   "source": [
    "There are:\n",
    "- 5 Binary features(bin_*) [0,4]\n",
    "- 10 Nominal features (nom_*) [0,9]\n",
    "- 6 Ordinal features (ord_*) [0,5] 3,4,5 lexically ordered acording to string.ascii_letters."
   ],
   "metadata": {
    "collapsed": false,
    "pycharm": {
     "name": "#%% md\n"
    }
   }
  },
  {
   "cell_type": "code",
   "execution_count": 47,
   "outputs": [
    {
     "data": {
      "text/plain": "0    50000\n1    50000\n2    50000\n3    50000\n4    50000\n5    50000\nName: kfold, dtype: int64"
     },
     "execution_count": 47,
     "metadata": {},
     "output_type": "execute_result"
    }
   ],
   "source": [
    "df.kfold.value_counts()"
   ],
   "metadata": {
    "collapsed": false,
    "pycharm": {
     "name": "#%%\n"
    }
   }
  },
  {
   "cell_type": "code",
   "execution_count": 48,
   "outputs": [
    {
     "data": {
      "text/plain": "Text(0, 0.5, 'count')"
     },
     "execution_count": 48,
     "metadata": {},
     "output_type": "execute_result"
    },
    {
     "data": {
      "text/plain": "<Figure size 432x288 with 1 Axes>",
      "image/png": "[encoded data removed]"
     },
     "metadata": {
      "needs_background": "light"
     },
     "output_type": "display_data"
    }
   ],
   "source": [
    "b= sns.countplot(x='target',data=df)\n",
    "b.set_xlabel('target',fontsize=10)\n",
    "b.set_ylabel('count',fontsize=10)\n",
    "\n",
    "# Skewed Dataset: Note that we would use Stratified k-fold to preserve the percentage of samples for each class.\n",
    "# Best Evaluation metric for this binary classification problem is AUC (Area under the ROC Curve)."
   ],
   "metadata": {
    "collapsed": false,
    "pycharm": {
     "name": "#%%\n"
    }
   }
  },
  {
   "cell_type": "code",
   "execution_count": 49,
   "outputs": [
    {
     "data": {
      "text/plain": "id        0\nbin_0     0\nbin_1     0\nbin_2     0\nbin_3     0\nbin_4     0\nnom_0     0\nnom_1     0\nnom_2     0\nnom_3     0\nnom_4     0\nnom_5     0\nnom_6     0\nnom_7     0\nnom_8     0\nnom_9     0\nord_0     0\nord_1     0\nord_2     0\nord_3     0\nord_4     0\nord_5     0\nday       0\nmonth     0\ntarget    0\nkfold     0\ndtype: int64"
     },
     "execution_count": 49,
     "metadata": {},
     "output_type": "execute_result"
    }
   ],
   "source": [
    "# Check missing values\n",
    "df.isnull().sum()\n",
    "# lol"
   ],
   "metadata": {
    "collapsed": false,
    "pycharm": {
     "name": "#%%\n"
    }
   }
  },
  {
   "cell_type": "markdown",
   "source": [
    "First & basic approach --> One hot encoding & Logistic regression."
   ],
   "metadata": {
    "collapsed": false,
    "pycharm": {
     "name": "#%% md\n"
    }
   }
  },
  {
   "cell_type": "code",
   "execution_count": 62,
   "outputs": [],
   "source": [
    "from sklearn import linear_model\n",
    "from sklearn import metrics\n",
    "from sklearn import preprocessing\n",
    "import warnings\n",
    "warnings.filterwarnings('ignore')\n",
    "\n",
    "def run(fold):\n",
    "\n",
    " # define features:\n",
    " features =  [f for f in df.columns if f not in (\"id\",\"kfold\",\"target\")]\n",
    "\n",
    " # Convert to string otherwise there will be problems transforming\n",
    " for col in features:\n",
    "    df.loc[:,col] = df[col].astype(str)\n",
    " # Get training & Validation data using folds:\n",
    " df_train = df[df.kfold != fold].reset_index(drop=True)\n",
    " df_valid = df[df.kfold == fold].reset_index(drop=True)\n",
    "\n",
    " # onehotencoding\n",
    " ohe = preprocessing.OneHotEncoder()\n",
    " ohe.fit(df[features])\n",
    "\n",
    " # Transform data\n",
    " x_train = ohe.transform(df_train[features])\n",
    " x_valid = ohe.transform(df_valid[features])\n",
    " model = linear_model.LogisticRegression()\n",
    " # fit model on ohe training data (df_train)\n",
    " model.fit(x_train,df_train.target.values)\n",
    " valid_preds = model.predict_proba(x_valid)[:,1]\n",
    " auc = metrics.roc_auc_score(df_valid.target.values, valid_preds)\n",
    " print(f\"Fold = {fold}, AUC = {auc}\")"
   ],
   "metadata": {
    "collapsed": false,
    "pycharm": {
     "name": "#%%\n"
    }
   }
  },
  {
   "cell_type": "code",
   "execution_count": 65,
   "outputs": [
    {
     "name": "stdout",
     "output_type": "stream",
     "text": [
      "Fold = 0, AUC = 0.800100390817851\n",
      "Fold = 1, AUC = 0.8014709952285706\n",
      "Fold = 2, AUC = 0.7970005416267631\n",
      "Fold = 3, AUC = 0.7969899141429679\n",
      "Fold = 4, AUC = 0.7962760584640396\n",
      "Fold = 5, AUC = 0.8002419166484092\n"
     ]
    }
   ],
   "source": [
    "for fold in range (6):\n",
    "    run(fold)"
   ],
   "metadata": {
    "collapsed": false,
    "pycharm": {
     "name": "#%%\n"
    }
   }
  },
  {
   "cell_type": "code",
   "execution_count": null,
   "outputs": [],
   "source": [],
   "metadata": {
    "collapsed": false,
    "pycharm": {
     "name": "#%%\n"
    }
   }
  }
 ],
 "metadata": {
  "kernelspec": {
   "display_name": "Python 3",
   "language": "python",
   "name": "python3"
  },
  "language_info": {
   "codemirror_mode": {
    "name": "ipython",
    "version": 2
   },
   "file_extension": ".py",
   "mimetype": "text/x-python",
   "name": "python",
   "nbconvert_exporter": "python",
   "pygments_lexer": "ipython2",
   "version": "2.7.6"
  }
 },
 "nbformat": 4,
 "nbformat_minor": 0
}
